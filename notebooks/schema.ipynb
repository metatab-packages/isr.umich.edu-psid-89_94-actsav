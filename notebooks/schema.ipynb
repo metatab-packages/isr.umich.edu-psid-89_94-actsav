{
 "cells": [
  {
   "cell_type": "code",
   "execution_count": 2,
   "metadata": {},
   "outputs": [],
   "source": [
    "import seaborn as sns\n",
    "import metapack as mp\n",
    "import pandas as pd\n",
    "import numpy as np\n",
    "import matplotlib.pyplot as plt\n",
    "from IPython.display import display \n",
    "\n",
    "%matplotlib inline\n",
    "sns.set_context('notebook')\n",
    "mp.jupyter.init()\n"
   ]
  },
  {
   "cell_type": "code",
   "execution_count": 3,
   "metadata": {},
   "outputs": [
    {
     "data": {
      "text/html": [
       "<h1>PSID Active Savings 89 and 94</h1>\n",
       "<p><code>isr.umich.edu-psid-89_94-actsav-1.1.1</code> Last Update: 2023-06-06T20:56:40</p>\n",
       "<p><em>Measurements of money flows into savings, housing and annuities.</em></p>\n",
       "<h2>Contacts</h2>\n",
       "<ul>\n",
       "<li><strong>Wrangler</strong> <a href=\"mailto:eric@civicknowledge.com\">Eric Busboom</a>, <a href=\"http://civicknowledge.com\">Civic Knowledge</a></li>\n",
       "</ul>\n",
       "<h2>References</h2>\n",
       "<ul><li> <strong>source</string>, <em>data/ActSavings89_94</em>. </li><ul>"
      ],
      "text/plain": [
       "# PSID Active Savings 89 and 94\n",
       "`isr.umich.edu-psid-89_94-actsav-1.1.1` Last Update: 2023-06-06T20:56:40\n",
       "\n",
       "_Measurements of money flows into savings, housing and annuities._\n",
       "\n",
       "\n",
       "\n",
       "\n",
       " \n",
       "\n",
       "## Contacts\n",
       "\n",
       "* **Wrangler** [Eric Busboom](mailto:eric@civicknowledge.com), [Civic Knowledge](http://civicknowledge.com)\n",
       "\n",
       "\n",
       "## References\n",
       "<ul><li> <strong>source</string>, <em>data/ActSavings89_94</em>. </li><ul>\n"
      ]
     },
     "execution_count": 3,
     "metadata": {},
     "output_type": "execute_result"
    }
   ],
   "source": [
    "#pkg = mp.jupyter.open_package()\n",
    "pkg = mp.jupyter.open_source_package()\n",
    "pkg"
   ]
  },
  {
   "cell_type": "code",
   "execution_count": 8,
   "metadata": {},
   "outputs": [],
   "source": [
    "dp = pkg.reference('source').resolved_url.fspath"
   ]
  },
  {
   "cell_type": "code",
   "execution_count": 22,
   "metadata": {},
   "outputs": [
    {
     "data": {
      "text/plain": [
       "[{'name': 'ACT89V1', 'start': 1, 'end': 1},\n",
       " {'name': 'ACT89V2', 'start': 2, 'end': 5},\n",
       " {'name': 'ACT89V3', 'start': 6, 'end': 11},\n",
       " {'name': 'ACT89V4', 'start': 12, 'end': 18},\n",
       " {'name': 'ACT89V5', 'start': 19, 'end': 25},\n",
       " {'name': 'ACT89V6', 'start': 26, 'end': 31},\n",
       " {'name': 'ACT89V7', 'start': 32, 'end': 37},\n",
       " {'name': 'ACT89V8', 'start': 38, 'end': 44},\n",
       " {'name': 'ACT89V9', 'start': 45, 'end': 51},\n",
       " {'name': 'ACT89V10', 'start': 52, 'end': 58},\n",
       " {'name': 'ACT89V11', 'start': 59, 'end': 65},\n",
       " {'name': 'ACT89V12', 'start': 66, 'end': 72},\n",
       " {'name': 'ACT89V13', 'start': 73, 'end': 79},\n",
       " {'name': 'ACT89V14', 'start': 80, 'end': 86},\n",
       " {'name': 'ACT89V15', 'start': 87, 'end': 93},\n",
       " {'name': 'ACT89V16', 'start': 94, 'end': 100}]"
      ]
     },
     "execution_count": 22,
     "metadata": {},
     "output_type": "execute_result"
    }
   ],
   "source": [
    "\n",
    "# Crazy code b/c GPT wrote it, but it works. \n",
    "def parse_infix_section(config):\n",
    "    infix_lines = config.split('\\n')\n",
    "    variable_list = []\n",
    "    \n",
    "    for line in infix_lines:\n",
    "        line = line.strip()\n",
    "        if line.startswith('ACT89') or line.startswith('ACT94'):\n",
    "            variables = line.split()\n",
    "            i = 0\n",
    "            while i < len(variables) - 1:\n",
    "                variable_name = variables[i]\n",
    "                start_column = int(variables[i+1])\n",
    "                end_column = int(variables[i+3])\n",
    "                variable = {\n",
    "                    'name': variable_name,\n",
    "                    'start': start_column,\n",
    "                    'end': end_column\n",
    "                }\n",
    "                variable_list.append(variable)\n",
    "                i += 4\n",
    "    \n",
    "    return variable_list\n",
    "\n",
    "\n",
    "def parse_infix_section_from_file(file_path):\n",
    "    with open(file_path, 'r') as file:\n",
    "        config = file.read()\n",
    "    return parse_infix_section(config)\n",
    "\n",
    "\n",
    "parse_infix_section_from_file(dp.joinpath('ACT89.do'))"
   ]
  },
  {
   "cell_type": "code",
   "execution_count": 23,
   "metadata": {},
   "outputs": [
    {
     "data": {
      "text/plain": [
       "[{'name': 'ACT94V1', 'start': 1, 'end': 1},\n",
       " {'name': 'ACT94V2', 'start': 2, 'end': 6},\n",
       " {'name': 'ACT94V3', 'start': 7, 'end': 12},\n",
       " {'name': 'ACT94V4', 'start': 13, 'end': 19},\n",
       " {'name': 'ACT94V5', 'start': 20, 'end': 26},\n",
       " {'name': 'ACT94V6', 'start': 27, 'end': 33},\n",
       " {'name': 'ACT94V7', 'start': 34, 'end': 39},\n",
       " {'name': 'ACT94V8', 'start': 40, 'end': 46},\n",
       " {'name': 'ACT94V9', 'start': 47, 'end': 53},\n",
       " {'name': 'ACT94V10', 'start': 54, 'end': 60},\n",
       " {'name': 'ACT94V11', 'start': 61, 'end': 67},\n",
       " {'name': 'ACT94V12', 'start': 68, 'end': 74},\n",
       " {'name': 'ACT94V13', 'start': 75, 'end': 81},\n",
       " {'name': 'ACT94V14', 'start': 82, 'end': 88},\n",
       " {'name': 'ACT94V15', 'start': 89, 'end': 95},\n",
       " {'name': 'ACT94V16', 'start': 96, 'end': 102},\n",
       " {'name': 'ACT94V17', 'start': 103, 'end': 109},\n",
       " {'name': 'ACT94V18', 'start': 110, 'end': 115}]"
      ]
     },
     "execution_count": 23,
     "metadata": {},
     "output_type": "execute_result"
    }
   ],
   "source": [
    "parse_infix_section_from_file(dp.joinpath('ACT94.do'))"
   ]
  },
  {
   "cell_type": "code",
   "execution_count": 24,
   "metadata": {},
   "outputs": [
    {
     "data": {
      "text/plain": [
       "{'ACT89V1': 'RELEASE NUMBER',\n",
       " 'ACT89V2': '1989 INTERVIEW NUMBER',\n",
       " 'ACT89V3': 'PUT INTO ANNUITY',\n",
       " 'ACT89V4': 'CASH IN ANNUITY',\n",
       " 'ACT89V5': 'BUY REAL ESTATE',\n",
       " 'ACT89V6': 'SELL REAL ESTATE',\n",
       " 'ACT89V7': 'HOME IMPROVEMENT',\n",
       " 'ACT89V8': 'BUY BUSINESS',\n",
       " 'ACT89V9': 'SELL BUSINESS',\n",
       " 'ACT89V10': 'ASSETS MOVE OUT',\n",
       " 'ACT89V11': 'DEBTS MOVE OUT',\n",
       " 'ACT89V12': 'ASSETS BROUGHT IN',\n",
       " 'ACT89V13': 'DEBTS BROUGHT IN',\n",
       " 'ACT89V14': 'FIRST GIFT/INHERITANCE',\n",
       " 'ACT89V15': 'SECOND GIFT/INHERITANCE',\n",
       " 'ACT89V16': 'NET INTO STOCK'}"
      ]
     },
     "execution_count": 24,
     "metadata": {},
     "output_type": "execute_result"
    }
   ],
   "source": [
    "\n",
    "def parse_variable_descriptions_from_file(file_path):\n",
    "    with open(file_path, 'r') as file:\n",
    "        config = file.read()\n",
    "    return parse_variable_descriptions(config)\n",
    "\n",
    "def parse_variable_descriptions(config):\n",
    "    description_lines = config.split('\\n')\n",
    "    variable_descriptions = {}\n",
    "    \n",
    "    for line in description_lines:\n",
    "        line = line.strip()\n",
    "        if line.startswith('label variable'):\n",
    "            parts = line.split()\n",
    "            variable_name = parts[2]\n",
    "            description = ' '.join(parts[3:-1]).strip('\"')\n",
    "            variable_descriptions[variable_name] = description\n",
    "    \n",
    "    return variable_descriptions\n",
    "\n",
    "parse_variable_descriptions_from_file(dp.joinpath('ACT89.do'))\n"
   ]
  },
  {
   "cell_type": "code",
   "execution_count": 25,
   "metadata": {},
   "outputs": [
    {
     "data": {
      "text/plain": [
       "{'ACT94V1': 'RELEASE NUMBER',\n",
       " 'ACT94V2': '1994 INTERVIEW NUMBER',\n",
       " 'ACT94V3': 'PUT INTO ANNUITY',\n",
       " 'ACT94V4': 'CASH IN ANNUITY',\n",
       " 'ACT94V5': 'BUY REAL ESTATE',\n",
       " 'ACT94V6': 'SELL REAL ESTATE',\n",
       " 'ACT94V7': 'HOME IMPROVEMENT',\n",
       " 'ACT94V8': 'BUY BUSINESS',\n",
       " 'ACT94V9': 'SELL BUSINESS',\n",
       " 'ACT94V10': 'ASSETS MOVE OUT',\n",
       " 'ACT94V11': 'DEBTS MOVE OUT',\n",
       " 'ACT94V12': 'ASSETS BROUGHT IN',\n",
       " 'ACT94V13': 'DEBTS BROUGHT IN',\n",
       " 'ACT94V14': 'FIRST GIFT/INHERITANCE',\n",
       " 'ACT94V15': 'SECOND GIFT/INHERITANCE',\n",
       " 'ACT94V16': 'THIRD GIFT/INHERITANCE',\n",
       " 'ACT94V17': 'NET INTO STOCK',\n",
       " 'ACT94V18': 'SELL MAIN HOME'}"
      ]
     },
     "execution_count": 25,
     "metadata": {},
     "output_type": "execute_result"
    }
   ],
   "source": [
    "parse_variable_descriptions_from_file(dp.joinpath('ACT94.do'))\n"
   ]
  },
  {
   "cell_type": "code",
   "execution_count": 29,
   "metadata": {},
   "outputs": [],
   "source": [
    "def clean_schema(st):\n",
    "    for c in st.children:\n",
    "        ss.remove_term(c)\n",
    "    st.children = []\n",
    "\n",
    "pkg = mp.jupyter.open_source_package()\n",
    "ss = pkg['Schema']\n",
    "ss.clean()\n",
    "ss.args = ['Description', 'DataType', 'Start', 'End']\n",
    "\n",
    "\n",
    "def new_schema(sname):\n",
    "    st = ss.new_term('Root.Table', sname.lower())\n",
    "\n",
    "    col_pos = parse_infix_section_from_file(dp.joinpath(f'{sname}.do'))\n",
    "    desc = parse_variable_descriptions_from_file(dp.joinpath(f'{sname}.do'))\n",
    "\n",
    "    for e in col_pos:\n",
    "        t = st.new_child('Table.Column', e['name'].lower())\n",
    "        t['Start'] = e['start']\n",
    "        t['End'] = e['end']\n",
    "        t['Description'] = desc[ e['name']]\n",
    "\n",
    "\n",
    "new_schema('ACT89')\n",
    "new_schema('ACT94')\n",
    "\n",
    "pkg.write()\n"
   ]
  },
  {
   "cell_type": "code",
   "execution_count": null,
   "metadata": {},
   "outputs": [],
   "source": [
    "st = pkg.resource('psid_ineq').schema_term\n",
    "\n",
    "# Clears out all of the schema children.\n",
    "\n",
    "\n",
    "for c in st.children:\n",
    "    ss.remove_term(c)\n",
    "st.children = []\n",
    "\n",
    "final_cols = ['pid'] + list(mdf_sel.name)\n",
    "\n",
    "st.new_child('Table.Column','pid', DataType='integer',Description='Constructed person id')\n",
    "\n",
    "for idx, c in mdf_sel.iterrows():\n",
    "    t = st.new_child('Table.Column', c['name'].lower())\n",
    "    t['DataType'] = 'number' if df[c['name']].dtype == 'float64' else 'integer'\n",
    "    t['Year'] = c.year\n",
    "    t['Label'] = c.label\n",
    "    t['Category'] = c.category\n",
    "    t['Description'] = (c.qtext+\": \"+c.etext).strip()\n",
    "\n",
    "pkg.write()\n",
    "\n",
    "\n",
    "# Make df match\n",
    "\n",
    "df = df[final_cols]"
   ]
  }
 ],
 "metadata": {
  "kernelspec": {
   "display_name": "Python 3 (ipykernel)",
   "language": "python",
   "name": "python3"
  },
  "language_info": {
   "codemirror_mode": {
    "name": "ipython",
    "version": 3
   },
   "file_extension": ".py",
   "mimetype": "text/x-python",
   "name": "python",
   "nbconvert_exporter": "python",
   "pygments_lexer": "ipython3",
   "version": "3.10.6"
  }
 },
 "nbformat": 4,
 "nbformat_minor": 4
}
